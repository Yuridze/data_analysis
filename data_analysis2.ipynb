{
 "cells": [
  {
   "cell_type": "markdown",
   "metadata": {},
   "source": [
    "Подробное теоретическое описание довольно объёмное, поэтому находится в прикреплённом файле."
   ]
  },
  {
   "cell_type": "markdown",
   "metadata": {},
   "source": [
    "## Монте-Карло"
   ]
  },
  {
   "cell_type": "markdown",
   "metadata": {},
   "source": [
    "1. Задаём координаты звёзд равнораспределённо по z.\n",
    "Реализуем рассчёт в параллелепипеде. Разобьём рассчётный параллелепипед (x, y, z) на кубики по 1 пк.\n",
    "\n",
    "1.2. Задаём координаты звёзд особым образом.\n",
    "\n",
    "2. Задаём распределение пыли в ячейках."
   ]
  },
  {
   "cell_type": "code",
   "execution_count": null,
   "metadata": {
    "scrolled": true
   },
   "outputs": [],
   "source": [
    "# Задаём звёзды\n",
    "import numpy as np\n",
    "#import matplotlib.pyplot as plt\n",
    "\n",
    "\n",
    "import matplotlib.pyplot as plt\n",
    "\n",
    "stars_number=1000\n",
    "N = stars_number\n",
    "size=100\n",
    "x_length=size\n",
    "y_width =size\n",
    "z_height=size\n",
    "def scale (vector, size):\n",
    "    return (vector*2-1)*size\n",
    "\n",
    "def scale_exp (vector, size):\n",
    "    return (np.log(vector)*2)#*size\n",
    "\n",
    "\n",
    "x_stars = scale(np.random.rand(N), x_length)\n",
    "y_stars = scale(np.random.rand(N), y_width)\n",
    "z_stars = scale(np.random.rand(N), z_height)\n",
    "#print(z_stars)\n",
    "stars_polar_r=np.zeros(stars_number)\n",
    "stars_polar_theta=np.zeros(stars_number)\n",
    "stars_polar_phi=np.zeros(stars_number)\n",
    "def to_polar(z, x, y):\n",
    "    r=np.sqrt(x**2+y**2+z**2)\n",
    "    if z==0:\n",
    "        theta=np.pi/2\n",
    "    else:\n",
    "        theta=np.arctan(np.sqrt(x**2+y**2)/z)\n",
    "    if x==0:\n",
    "        phi=np.pi/2\n",
    "    else:\n",
    "        phi=np.arctan(y/x)\n",
    "    return (r, theta, phi)\n",
    "#print(to_polar(1, 10, 10))\n",
    "    \n",
    "for i in range(stars_number):\n",
    "#     stars_polar_r[i]=np.sqrt(x_stars[i]**2+y_stars[i]**2+z_stars[i]**2)\n",
    "#     stars_polar_theta[i]=np.arctan(np.sqrt(x_stars[i]**2+y_stars[i]**2)/z_stars[i])\n",
    "#     stars_polar_phi[i]=np.arctan(y_stars[i]/x_stars[i])\n",
    "    stars_polar_r[i], stars_polar_theta[i], stars_polar_phi[i] = to_polar(z_stars[i], x_stars[i], y_stars[i])\n",
    "print(stars_polar_r)\n",
    "\n"
   ]
  },
  {
   "cell_type": "code",
   "execution_count": null,
   "metadata": {},
   "outputs": [],
   "source": [
    "# %matplotlib notebook\n",
    "# from mpl_toolkits.mplot3d import axes3d\n",
    "\n",
    "# stars = plt.figure(\".\")\n",
    "# ax = stars.add_subplot(111, projection='3d')\n",
    "# ax.scatter(x_stars, y_stars, z_stars)\n",
    "# ax.set_xlim(-x_length, x_length)\n",
    "# ax.set_ylim(-y_width, y_width)\n",
    "# ax.set_zlim(-z_height, z_height)\n",
    "# plt.show()"
   ]
  },
  {
   "cell_type": "markdown",
   "metadata": {},
   "source": [
    "Зададим плотность пыли как убывающую экспоненциально."
   ]
  },
  {
   "cell_type": "code",
   "execution_count": 39,
   "metadata": {
    "scrolled": true
   },
   "outputs": [
    {
     "data": {
      "text/plain": [
       "<matplotlib.colorbar.Colorbar at 0x1d73e34e0a0>"
      ]
     },
     "execution_count": 39,
     "metadata": {},
     "output_type": "execute_result"
    },
    {
     "data": {
      "image/png": "[encoded data removed]",
      "text/plain": [
       "<Figure size 640x480 with 2 Axes>"
      ]
     },
     "metadata": {},
     "output_type": "display_data"
    }
   ],
   "source": [
    "# а теперь сделаем трёхмерный массив, в котором будем брать проекцию\n",
    "# Пыль в кубе от -100 до 100\n",
    "import numpy as np\n",
    "import matplotlib.pyplot as plt\n",
    "\n",
    "x=np.linspace(-x_length, x_length, 2*x_length+1)\n",
    "\n",
    "y=np.linspace(-y_width, y_width, 2*y_width+1)\n",
    "z=np.linspace(-z_height, z_height, 2*z_height+1)\n",
    "#print(x)\n",
    "#print(y)\n",
    "def gauss(x, a, b, c):\n",
    "    return a*np.exp(-(x-b)**2/(2*c**2))\n",
    "\n",
    "def density_function (z, vector):\n",
    "    return gauss(z, 1, 0, size/2)\n",
    "    #b=1/size\n",
    "    #return (np.exp(-b*abs(z)))*vector\n",
    "    #return vector\n",
    "first = np.ones((2*z_height+1, 2*x_length+1, 2*y_width+1))\n",
    "dust=np.zeros((2*z_height+1, 2*x_length+1, 2*y_width+1))\n",
    "for z_pointer in range(-z_height, z_height+1):\n",
    "    #print(z_pointer, density_function(z_pointer, first[z_pointer]))\n",
    "    dust[z_pointer+z_height] = density_function(z_pointer, first[z_pointer])\n",
    "    #print(z_pointer, dust[z_pointer+z_height][0][0])\n",
    "#print(dust)\n",
    "slice_z=dust[:, :, 0]#, :]\n",
    "#print(slice_z)\n",
    "#np.log(dust)\n",
    "plt.pcolor(x, z, slice_z, cmap=\"Reds\")\n",
    "plt.colorbar()\n",
    "# print(np.shape(x))\n",
    "# print(np.shape(z))\n",
    "# print(np.shape(slice_z))"
   ]
  },
  {
   "cell_type": "code",
   "execution_count": null,
   "metadata": {
    "scrolled": true
   },
   "outputs": [],
   "source": [
    "# Интегрирование по лучу зрения\n",
    "import math as m\n",
    "def n_fill():    \n",
    "    #print(stars_polar_r)\n",
    "    n_arr=np.zeros(stars_number)\n",
    "    for a in range(stars_number):\n",
    "        star=np.arange(3)\n",
    "        star[0]=z_stars[a]#z\n",
    "        star[1]=x_stars[a]#x\n",
    "        star[2]=y_stars[a]#y\n",
    "        star_distance=stars_polar_r[a]\n",
    "        n_discretization=int(np.round(star_distance*10))\n",
    "        element_length=star_distance/n_discretization\n",
    "        coordinates_array=np.linspace(0, star_distance, n_discretization)\n",
    "        optical_density=0\n",
    "        star2=star/star_distance\n",
    "        #print(star2)\n",
    "        optical_density=0\n",
    "        for i in coordinates_array:\n",
    "            coord1=star2*i #z\n",
    "            coord2=np.floor(coord1) #z\n",
    "            #print(coord1, coord2)\n",
    "            #print(dust[int(coord2[0])][int(coord2[1])][int(coord2[2])]*element_length)\n",
    "            optical_density+=dust[int(coord2[0]+z_height)][int(coord2[1]+x_length)][int(coord2[2]+y_width)]*element_length\n",
    "            #print(optical_density)\n",
    "        n_arr[a]=optical_density\n",
    "    return n_arr\n",
    "#print(n_arr)\n",
    "n_phys=n_fill()\n",
    "print(n_phys)"
   ]
  },
  {
   "cell_type": "code",
   "execution_count": null,
   "metadata": {
    "scrolled": true
   },
   "outputs": [],
   "source": [
    "# Решение СЛАУ\n",
    "import scipy.linalg as sla\n",
    "import numpy as np\n",
    "\n",
    "\n",
    "cosT=np.cos(stars_polar_theta)\n",
    "sinT=np.sin(stars_polar_theta)\n",
    "cosF=np.cos(stars_polar_phi)\n",
    "sinF=np.sin(stars_polar_phi)\n",
    "\n",
    "# Задали. Составляем матрицу B:\n",
    "m_num_of_coef=10\n",
    "#B=np.zeros((stars_number, m_num_of_coef))\n",
    "#print(B)\n",
    "\n",
    "def B_string(r, theta, phi):\n",
    "    B_str=np.zeros(m_num_of_coef)\n",
    "    B_str[0]= r\n",
    "    B_str[1]= np.sqrt(3)/2*r**2*np.cos(theta)\n",
    "    B_str[2]=-np.sqrt(6)/2*r**2*np.sin(theta)*np.cos(phi)\n",
    "    B_str[3]= np.sqrt(6)/2*r**2*np.sin(theta)*np.sin(phi)\n",
    "    B_str[4]= 1/3*r**3\n",
    "    B_str[5]= np.sqrt(5)/6*r**3*(3*np.cos(theta)**2-1)\n",
    "    B_str[6]=-np.sqrt(5/6)*r**3*np.sin(2*theta)*np.cos(phi)\n",
    "    B_str[7]= np.sqrt(5/6)*r**3*np.sin(2*theta)*np.sin(phi)\n",
    "    B_str[8]= np.sqrt(5/6)*r**3*np.sin(theta)**2*np.cos(2*phi)\n",
    "    B_str[9]=-np.sqrt(5/6)*r**3*np.sin(theta)**2*np.sin(2*phi)\n",
    "    return B_str\n",
    "\n",
    "def B_fill(stars_number, m_num_of_coef):\n",
    "    B=np.zeros((stars_number, m_num_of_coef))\n",
    "    for a in range(stars_number):\n",
    "        B[a]=B_string(stars_polar_r[a], stars_polar_theta[a], stars_polar_phi[a])\n",
    "        \n",
    "        #B=B/np.sqrt(4*np.pi) !!!! Работает неправильно!\n",
    "    return B/np.sqrt(4*np.pi)\n",
    "B=B_fill(stars_number, m_num_of_coef)\n",
    "#print(B)\n",
    "# Интегрированиеы\n",
    "\n",
    "#n_phys=n_fill()\n",
    "#print(n_phys)\n",
    "#B.shape\n",
    "#n_phys.shape\n",
    "A_lstsq=sla.lstsq(B, n_phys)\n",
    "A=A_lstsq[0]\n",
    "err=A_lstsq[1]\n",
    "print(A)\n",
    "print(err)\n",
    "result=np.dot(B, A)\n",
    "print(result)\n",
    "def sq_sum(x):\n",
    "    sq_sum=0;\n",
    "    for i in x:\n",
    "        sq_sum+=i**2\n",
    "    return sq_sum\n",
    "sq_sum_res=sq_sum(result-n_phys)\n",
    "sq_sum_n_phys=sq_sum(n_phys)\n",
    "print(sq_sum(result-n_phys))\n",
    "print(sq_sum(n_phys))\n",
    "rel_err_lstsq=sq_sum_res/sq_sum_n_phys\n",
    "print(\"r(относительная невязка МНК):\", rel_err_lstsq)\n",
    "\n",
    "# n_fillphys\n",
    "# sq_sum"
   ]
  },
  {
   "cell_type": "code",
   "execution_count": null,
   "metadata": {
    "scrolled": true
   },
   "outputs": [],
   "source": [
    "# Восстановление концентрации z,x,y\n",
    "def refill_n(r, theta, phi):\n",
    "    n=0\n",
    "    n+=A[0]\n",
    "    n+=np.sqrt(3)*r*np.cos(theta)*A[1]\n",
    "    n-=np.sqrt(6)*r*np.sin(theta)*(A[2]*np.cos(phi)-A[3]*np.sin(phi))\n",
    "    n+= r**2*A[4]\n",
    "    n+= np.sqrt(5)/2*r**2*(3*np.cos(theta)**2-1)*A[5]\n",
    "    n+=-3*np.sqrt(5/6)*r**2*np.sin(2*theta)*np.cos(phi)*A[6]\n",
    "    n+= 3*np.sqrt(5/6)*r**2*np.sin(2*theta)*np.sin(phi)*A[7]\n",
    "    n+= 3*np.sqrt(5/6)*r**2*np.sin(theta)**2*np.cos(2*phi)*A[8]\n",
    "    n+=-3*np.sqrt(5/6)*r**2*np.sin(theta)**2*np.sin(2*phi)*A[9]\n",
    "    return n/np.sqrt(4*np.pi)\n",
    "\n",
    "needed_y_projections=[-y_width, 0, y_width]\n",
    "\n",
    "dust_refill=np.zeros((2*z_height+1, 2*x_length+1, 2*y_width+1))\n",
    "dust_diff=  np.zeros((2*z_height+1, 2*x_length+1, 2*y_width+1))\n",
    "sum_dust=0\n",
    "sum_dust_refill=0\n",
    "sum_dust_refill=0\n",
    "sq_sum_dust_diff=0\n",
    "relative_deviation_sum=0\n",
    "sq_relative_deviation_sum=0\n",
    "rel_dev=0\n",
    "for z_pointer in range(-z_height, z_height+1):\n",
    "    for x_pointer in range(-x_length, x_length+1):\n",
    "#         y_pointer=0\n",
    "#         r, theta, phi = to_polar(z_pointer, x_pointer, y_pointer)\n",
    "#         dust_refill[z_pointer+z_height][x_pointer+x_length][y_pointer+y_width] = refill_n(r, theta, phi)\n",
    "        for y_pointer in range(-y_width, y_width+1):\n",
    "#       for y_pointer in needed_y_projections:\n",
    "            r, theta, phi = to_polar(z_pointer, x_pointer, y_pointer)\n",
    "            dust_refill[z_pointer+z_height][x_pointer+x_length][y_pointer+y_width] = refill_n(r, theta, phi)\n",
    "            dust_diff  [z_pointer+z_height][x_pointer+x_length][y_pointer+y_width]=dust_refill[z_pointer+z_height][x_pointer+x_length][y_pointer+y_width]-dust[z_pointer+z_height][x_pointer+x_length][y_pointer+y_width]\n",
    "            sum_dust+=dust[z_pointer+z_height][x_pointer+x_length][y_pointer+y_width]\n",
    "            sum_dust_refill+=dust_refill[z_pointer+z_height][x_pointer+x_length][y_pointer+y_width]\n",
    "            sq_sum_dust_diff+=dust_diff[z_pointer+z_height][x_pointer+x_length][y_pointer+y_width]**2\n",
    "            rel_dev=dust_diff[z_pointer+z_height][x_pointer+x_length][y_pointer+y_width]/dust[z_pointer+z_height][x_pointer+x_length][y_pointer+y_width]\n",
    "            relative_deviation_sum+=abs(rel_dev)\n",
    "            sq_relative_deviation_sum+=(rel_dev)**2\n",
    "    print(z_pointer, dust_refill[z_pointer+z_height][x_length][y_width])\n",
    "number_of_cells=(2*z_height+1)*(2*x_length+1)*(2*y_width+1)\n",
    "dust_refill_mean=sum_dust_refill/number_of_cells\n",
    "sq_dev_mean=np.sqrt(sq_sum_dust_diff/number_of_cells)\n",
    "print(\"среднее значение n_восстановленное=\", dust_refill_mean, \"+-\", sq_dev_mean, \"(сред. кв. откл.)\")\n",
    "relative_deviation_mean=relative_deviation_sum/number_of_cells\n",
    "print(\"Средняя относительная погрешность=\", relative_deviation_mean)\n",
    "sq_relative_deviation_mean=np.sqrt(sq_relative_deviation_sum/number_of_cells)\n",
    "print(\"Среднеквадратичная относительная погрешность=\", sq_relative_deviation_mean)"
   ]
  },
  {
   "cell_type": "code",
   "execution_count": 96,
   "metadata": {},
   "outputs": [
    {
     "name": "stdout",
     "output_type": "stream",
     "text": [
      "r(относительная невязка МНК): 8.385506023023104e-05\n",
      ",среднее значение n_восстановленное= 0.5858566016499258 +- 0.051388398982122635 (сред. кв. откл.)\n",
      ",Средняя относительная погрешность= 0.13578454087377545\n",
      ",Среднеквадратичная относительная погрешность= 0.2998987132788476\n"
     ]
    },
    {
     "data": {
      "image/png": "[encoded data removed]",
      "text/plain": [
       "<Figure size 800x500 with 8 Axes>"
      ]
     },
     "metadata": {},
     "output_type": "display_data"
    }
   ],
   "source": [
    "from matplotlib.colors import Normalize\n",
    "import matplotlib.cm as cm\n",
    "param = {'vmin':-0.1,'vmax':1.1}\n",
    "fig=plt.figure(figsize=(8, 5))\n",
    "fig.suptitle('Распределение концентрации пыли', fontsize=16)\n",
    "plt.subplots_adjust(wspace=0.4, hspace=0.5)\n",
    "\n",
    "ax = fig.add_subplot(221)\n",
    "ax.contourf(x, z, slice_z, cmap=\"Reds\",**param)\n",
    "fig.colorbar(cm.ScalarMappable(Normalize(**param),cmap=\"Reds\"), ax=ax)\n",
    "ax.set_title(\"исходное\")\n",
    "ax.set_xlabel(\"x, пк\")\n",
    "ax.set_ylabel(\"z, пк\")\n",
    "\n",
    "\n",
    "\n",
    "slice_z_ref1=dust_refill[:, :, 0]#, :]\n",
    "ax = fig.add_subplot(222)\n",
    "ax.contourf(x, z, slice_z_ref1, cmap=\"Reds\",**param)\n",
    "fig.colorbar(cm.ScalarMappable(Normalize(**param),cmap=\"Reds\"), ax=ax)\n",
    "ax.set_title(\"min y\")\n",
    "ax.set_xlabel(\"x, пк\")\n",
    "ax.set_ylabel(\"z, пк\")\n",
    "\n",
    "\n",
    "slice_z_ref2=dust_refill[:, :, size]#, :]\n",
    "ax = fig.add_subplot(223)\n",
    "ax.contourf(x, z, slice_z_ref2, cmap=\"Reds\",**param)\n",
    "fig.colorbar(cm.ScalarMappable(Normalize(**param),cmap=\"Reds\"), ax=ax)\n",
    "ax.set_title(\"y=0\")\n",
    "ax.set_xlabel(\"x, пк\")\n",
    "ax.set_ylabel(\"z, пк\")\n",
    "\n",
    "\n",
    "slice_z_ref3=dust_refill[:, :, 2*size]#, :]\n",
    "ax = fig.add_subplot(224)\n",
    "ax.contourf(x, z, slice_z_ref3, cmap=\"Reds\",**param)\n",
    "fig.colorbar(cm.ScalarMappable(Normalize(**param),cmap=\"Reds\"), ax=ax)\n",
    "ax.set_title(\"max y\")\n",
    "ax.set_xlabel(\"x, пк\")\n",
    "ax.set_ylabel(\"z, пк\")\n",
    "\n",
    "\n",
    "# ax.pcolormesh(self.x[i1x:i2x:STEP], self.y[i1y:i2y:STEP], ZZ ,cmap=cmap, **param)#z[i1y:i2y,\n",
    "# i1x:i2x, 0]\n",
    "# fig.colorbar(cm.ScalarMappable(Normalize(**param),cmap=cmap),pad=0.01,ax=ax,aspect=50,shrink\n",
    "# =1) # Построение линейки плотности справа\n",
    "print(\"r(относительная невязка МНК):\", rel_err_lstsq)\n",
    "print(\"среднее значение n_восстановленное=\", dust_refill_mean, \"+-\", sq_dev_mean, \"(сред. кв. откл.)\")\n",
    "print(\"Средняя относительная погрешность=\", relative_deviation_mean)\n",
    "print(\"Среднеквадратичная относительная погрешность=\", sq_relative_deviation_mean)"
   ]
  }
 ],
 "metadata": {
  "kernelspec": {
   "display_name": "Python 3 (ipykernel)",
   "language": "python",
   "name": "python3"
  },
  "language_info": {
   "codemirror_mode": {
    "name": "ipython",
    "version": 3
   },
   "file_extension": ".py",
   "mimetype": "text/x-python",
   "name": "python",
   "nbconvert_exporter": "python",
   "pygments_lexer": "ipython3",
   "version": "3.9.13"
  }
 },
 "nbformat": 4,
 "nbformat_minor": 4
}
